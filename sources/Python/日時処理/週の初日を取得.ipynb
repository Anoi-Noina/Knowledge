{
 "cells": [
  {
   "cell_type": "markdown",
   "metadata": {},
   "source": [
    "# 週始めの日付を取得する方法"
   ]
  },
  {
   "cell_type": "markdown",
   "metadata": {},
   "source": [
    "## お試し\n",
    "- datetime.datetime型から.weekday()で曜日を意味する数字を取得できる\n",
    "- 0が月曜日"
   ]
  },
  {
   "cell_type": "code",
   "execution_count": 38,
   "metadata": {},
   "outputs": [],
   "source": [
    "import datetime"
   ]
  },
  {
   "cell_type": "code",
   "execution_count": 39,
   "metadata": {},
   "outputs": [],
   "source": [
    "# 今日の日付\n",
    "today = datetime.date.today()"
   ]
  },
  {
   "cell_type": "code",
   "execution_count": 40,
   "metadata": {},
   "outputs": [
    {
     "name": "stdout",
     "output_type": "stream",
     "text": [
      "2024-11-02\n"
     ]
    }
   ],
   "source": [
    "print(today.strftime(\"%Y-%m-%d\"))"
   ]
  },
  {
   "cell_type": "code",
   "execution_count": 41,
   "metadata": {},
   "outputs": [],
   "source": [
    "# 曜日との差分を取得\n",
    "this_week_mon = 0 - today.weekday()\n",
    "this_week_tue= 1 - today.weekday()\n",
    "this_week_wen = 2 - today.weekday()\n",
    "this_week_thu = 3 - today.weekday()\n",
    "this_week_fri = 4 - today.weekday()\n",
    "this_week_sat = 5 - today.weekday()\n",
    "this_week_sun = 6 - today.weekday()\n",
    "\n",
    "# 日にちを特定\n",
    "this_mon_date = today + datetime.timedelta(days=this_week_mon)\n",
    "this_tue_date = today + datetime.timedelta(days=this_week_tue)\n",
    "this_wen_date = today + datetime.timedelta(days=this_week_wen)\n",
    "this_thu_date = today + datetime.timedelta(days=this_week_thu)\n",
    "this_fri_date = today + datetime.timedelta(days=this_week_fri)\n",
    "this_sat_date = today + datetime.timedelta(days=this_week_sat)\n",
    "this_sun_date = today + datetime.timedelta(days=this_week_sun)\n",
    "\n",
    "# 文字列\n",
    "this_mon_date_str = this_mon_date.strftime(\"%Y-%m-%d\")\n",
    "this_tue_date_str = this_tue_date.strftime(\"%Y-%m-%d\")\n",
    "this_wen_date_str = this_wen_date.strftime(\"%Y-%m-%d\")\n",
    "this_thu_date_str = this_thu_date.strftime(\"%Y-%m-%d\")\n",
    "this_fri_date_str = this_fri_date.strftime(\"%Y-%m-%d\")\n",
    "this_sat_date_str = this_sat_date.strftime(\"%Y-%m-%d\")\n",
    "this_sun_date_str = this_sun_date.strftime(\"%Y-%m-%d\")"
   ]
  },
  {
   "cell_type": "code",
   "execution_count": null,
   "metadata": {},
   "outputs": [
    {
     "name": "stdout",
     "output_type": "stream",
     "text": [
      "2024-10-28\n",
      "2024-10-29\n",
      "2024-10-29\n",
      "2024-10-30\n",
      "2024-10-31\n",
      "2024-11-01\n",
      "2024-11-02\n",
      "2024-11-03\n"
     ]
    }
   ],
   "source": [
    "print(\n",
    "    this_mon_date,\n",
    "    this_tue_date,\n",
    "    this_wen_date,\n",
    "    this_thu_date,\n",
    "    this_fri_date,\n",
    "    this_sat_date,\n",
    "    this_sun_date,\n",
    "    sep=\"\\n\"\n",
    ")"
   ]
  },
  {
   "cell_type": "code",
   "execution_count": null,
   "metadata": {},
   "outputs": [
    {
     "data": {
      "text/plain": [
       "0"
      ]
     },
     "execution_count": 44,
     "metadata": {},
     "output_type": "execute_result"
    }
   ],
   "source": [
    "# 月曜日は0\n",
    "this_mon_date.weekday()"
   ]
  },
  {
   "cell_type": "markdown",
   "metadata": {},
   "source": [
    "## 関数化"
   ]
  },
  {
   "cell_type": "code",
   "execution_count": null,
   "metadata": {},
   "outputs": [],
   "source": [
    "from typing import Optional\n",
    "import datetime\n",
    "\n",
    "def get_firstday_week(dt_date: Optional[datetime.datetime] = None) -> datetime.datetime:\n",
    "    \"\"\"\n",
    "    日曜日を週始めを考えて、週始めの日付を取得する関数\n",
    "\n",
    "    - 指定日の週の開始日を文字列(yyyy-mm-dd)で返す\n",
    "    - day_dtに取得したい週の日付を指定。指定が無い場合は、実行日の日付が指定される。\n",
    "    \"\"\"\n",
    "\n",
    "    # dt_dateに指定がない場合は実行日を指定\n",
    "    if dt_date is None:\n",
    "        dt_date = datetime.date.today()\n",
    "\n",
    "    # 指定された日が日曜日\n",
    "    if dt_date.weekday() == 6:\n",
    "        print(dt_date)\n",
    "        return dt_date\n",
    "\n",
    "    # 指定された日が日曜日以外\n",
    "    else:\n",
    "        print(dt_date)\n",
    "        # 曜日の差分を取得(月曜日が0)\n",
    "        _weekday_first = 0 - dt_date.weekday() - 1\n",
    "        return dt_date + datetime.timedelta(days=_weekday_first)"
   ]
  }
 ],
 "metadata": {
  "kernelspec": {
   "display_name": ".venv",
   "language": "python",
   "name": "python3"
  },
  "language_info": {
   "codemirror_mode": {
    "name": "ipython",
    "version": 3
   },
   "file_extension": ".py",
   "mimetype": "text/x-python",
   "name": "python",
   "nbconvert_exporter": "python",
   "pygments_lexer": "ipython3",
   "version": "3.10.14"
  }
 },
 "nbformat": 4,
 "nbformat_minor": 2
}
